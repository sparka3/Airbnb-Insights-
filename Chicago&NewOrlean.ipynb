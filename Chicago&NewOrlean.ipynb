{
 "cells": [
  {
   "cell_type": "code",
   "execution_count": 2,
   "metadata": {},
   "outputs": [],
   "source": [
    "import pandas as pd\n",
    "data = pd.read_csv('C:\\\\Users\\\\HP\\\\Chicago_Uncleaned Data.csv', sep = ';')"
   ]
  },
  {
   "cell_type": "code",
   "execution_count": 3,
   "metadata": {},
   "outputs": [
    {
     "data": {
      "text/plain": [
       "0    Host Has Profile Pic,Host Identity Verified,Re...\n",
       "1    Host Has Profile Pic,Host Identity Verified,Is...\n",
       "2    Host Has Profile Pic,Host Identity Verified,Is...\n",
       "3    Host Has Profile Pic,Host Identity Verified,Is...\n",
       "4    Host Has Profile Pic,Host Identity Verified,Is...\n",
       "Name: Features, dtype: object"
      ]
     },
     "execution_count": 3,
     "metadata": {},
     "output_type": "execute_result"
    }
   ],
   "source": [
    "data['Features'].head()"
   ]
  },
  {
   "cell_type": "code",
   "execution_count": 4,
   "metadata": {},
   "outputs": [],
   "source": [
    "data['Is_Superhost'] = pd.DataFrame(data['Features'].str.contains('Host Is Superhost', regex=True))\n",
    "data['Has_ProfilePic'] = pd.DataFrame(data['Features'].str.contains('Host Has Profile Pic', regex=True))\n",
    "data['Is_IdVerified'] = pd.DataFrame(data['Features'].str.contains('Host Identity Verified', regex=True))\n",
    "data['Is_Location_Exact'] = pd.DataFrame(data['Features'].str.contains('Is Location Exact', regex=True))\n",
    "data['Requires_Licesnse'] = pd.DataFrame(data['Features'].str.contains('Requires License', regex=True))\n",
    "data['Inst_Bookable'] = pd.DataFrame(data['Features'].str.contains('Instant Bookable', regex=True))\n",
    "data['Requires_Guest_Pic'] = pd.DataFrame(data['Features'].str.contains('Require Guest Profile Picture', regex=True))\n",
    "data['Req_Phone_Verification'] = pd.DataFrame(data['Features'].str.contains('Require Guest Phone Verification', regex=True))"
   ]
  },
  {
   "cell_type": "code",
   "execution_count": 6,
   "metadata": {},
   "outputs": [],
   "source": [
    "data.to_csv('C:\\\\Users\\\\HP\\\\Chicago_CleanedData.csv', encoding = 'utf-8', index = False)"
   ]
  },
  {
   "cell_type": "code",
   "execution_count": 14,
   "metadata": {},
   "outputs": [],
   "source": [
    "file1 = pd.read_csv('C:\\\\Users\\\\HP\\\\Chicago_CleanedData.csv', sep = ',')\n",
    "file2 = pd.read_csv('C:\\\\Users\\\\HP\\\\Practise2.csv', sep = ',')"
   ]
  },
  {
   "cell_type": "code",
   "execution_count": 18,
   "metadata": {},
   "outputs": [],
   "source": [
    "combined = pd.concat([file1,file2], sort = False)"
   ]
  },
  {
   "cell_type": "code",
   "execution_count": 23,
   "metadata": {},
   "outputs": [],
   "source": [
    "combined.to_csv('C:\\\\Users\\\\HP\\\\Chicago_NewOrlean.csv', encoding = 'utf-8', index = False)"
   ]
  },
  {
   "cell_type": "code",
   "execution_count": null,
   "metadata": {},
   "outputs": [],
   "source": []
  }
 ],
 "metadata": {
  "kernelspec": {
   "display_name": "Python 3",
   "language": "python",
   "name": "python3"
  },
  "language_info": {
   "codemirror_mode": {
    "name": "ipython",
    "version": 3
   },
   "file_extension": ".py",
   "mimetype": "text/x-python",
   "name": "python",
   "nbconvert_exporter": "python",
   "pygments_lexer": "ipython3",
   "version": "3.6.5"
  }
 },
 "nbformat": 4,
 "nbformat_minor": 2
}
